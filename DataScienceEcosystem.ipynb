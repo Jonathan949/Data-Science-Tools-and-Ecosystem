{
  "metadata": {
    "language_info": {
      "file_extension": ".py",
      "mimetype": "text/x-python",
      "name": "python",
      "version": "3.10.2"
    },
    "kernelspec": {
      "name": "xeus-python",
      "display_name": "Python (XPython)",
      "language": "python"
    }
  },
  "nbformat_minor": 4,
  "nbformat": 4,
  "cells": [
    {
      "cell_type": "markdown",
      "source": "## Data Science Tools and Ecosystem",
      "metadata": {}
    },
    {
      "cell_type": "markdown",
      "source": "In this notebooke data science Tools and Ecosystems are summuraized:",
      "metadata": {}
    },
    {
      "cell_type": "markdown",
      "source": "Some of popular languages Data Scientists used are :\n    \n    1. Python\n    2. R\n    3. SQL\n    4. C++\n    5. Java\n    6. Julia ect..",
      "metadata": {}
    },
    {
      "cell_type": "markdown",
      "source": "Some of commonly used libraries used by Data Scientists include:\n    \n    1. TensorFlow.\n    2. NumPy.\n    3. SciPy.\n    4. Pandas.\n    5. Matplotlib.\n    6. Keras.\n    7. SciKit-Learn.\n    8. PyTorch.\n    ",
      "metadata": {}
    },
    {
      "cell_type": "markdown",
      "source": "|Data Science Tools|\n|---|\n|SAS|\n|Apache Hadoop|\n|TensorFlow|\n",
      "metadata": {}
    },
    {
      "cell_type": "markdown",
      "source": "## Below are few examples of evaluating arithmetic expression In Python ",
      "metadata": {}
    },
    {
      "cell_type": "code",
      "source": "# this is a common arithmetic example of multiply and then add intergers\n(3*4)+5",
      "metadata": {
        "trusted": true
      },
      "execution_count": 2,
      "outputs": [
        {
          "execution_count": 2,
          "output_type": "execute_result",
          "data": {
            "text/plain": "17"
          },
          "metadata": {}
        }
      ]
    },
    {
      "cell_type": "code",
      "source": "# this will convert 200 minutes to hours by diving by 60\n200/60",
      "metadata": {
        "trusted": true
      },
      "execution_count": 3,
      "outputs": [
        {
          "execution_count": 3,
          "output_type": "execute_result",
          "data": {
            "text/plain": "3.3333333333333335"
          },
          "metadata": {}
        }
      ]
    },
    {
      "cell_type": "markdown",
      "source": "## Objective\n\n* List of popular languages for Data Science \n* List of popular libraries for Data Science\n* List well known data science tools\n* How to provide comments in the cell ",
      "metadata": {}
    },
    {
      "cell_type": "markdown",
      "source": "## Arthur\nJonathan Mojapelo",
      "metadata": {}
    },
    {
      "cell_type": "code",
      "source": "",
      "metadata": {},
      "execution_count": null,
      "outputs": []
    }
  ]
}